{
  "nbformat": 4,
  "nbformat_minor": 0,
  "metadata": {
    "colab": {
      "provenance": [],
      "toc_visible": true
    },
    "kernelspec": {
      "name": "python3",
      "display_name": "Python 3"
    },
    "language_info": {
      "name": "python"
    }
  },
  "cells": [
    {
      "cell_type": "code",
      "execution_count": 1,
      "metadata": {
        "id": "hMEhvEShE4Cv"
      },
      "outputs": [],
      "source": [
        "import pandas as pd\n",
        "import numpy as np\n",
        "import matplotlib.pyplot as plt\n",
        "import seaborn as sns\n",
        "from sklearn.datasets import load_wine\n",
        "from sklearn.model_selection import train_test_split\n",
        "from sklearn.preprocessing import StandardScaler\n",
        "from sklearn.impute import SimpleImputer"
      ]
    },
    {
      "cell_type": "code",
      "source": [
        "from sklearn.linear_model import LogisticRegression\n",
        "from sklearn.neighbors import KNeighborsClassifier\n",
        "from sklearn.tree import DecisionTreeClassifier\n",
        "from sklearn.discriminant_analysis import LinearDiscriminantAnalysis\n",
        "from sklearn.naive_bayes import GaussianNB\n",
        "from sklearn.svm import SVC\n",
        "from sklearn.ensemble import RandomForestClassifier\n",
        "from sklearn.metrics import accuracy_score, precision_score, recall_score, f1_score, confusion_matrix, classification_report"
      ],
      "metadata": {
        "id": "U98Fn5SxFA92"
      },
      "execution_count": 2,
      "outputs": []
    },
    {
      "cell_type": "code",
      "source": [
        "sns.set(style=\"whitegrid\")"
      ],
      "metadata": {
        "id": "51pEjbuLFakw"
      },
      "execution_count": 3,
      "outputs": []
    },
    {
      "cell_type": "code",
      "source": [
        "print(\"=\"*60)\n",
        "print(\"1. DEFINIÇÃO DO PROBLEMA\")\n",
        "print(\"=\"*60)\n",
        "print(\"Objetivo: Classificação multiclasse.\")\n",
        "print(\"O objetivo deste projeto é construir um modelo de Machine Learning\")\n",
        "print(\"capaz de classificar corretamente a classe de um vinho (0, 1 ou 2)\")\n",
        "print(\"com base em suas características químicas.\")\n",
        "print(\"\\nJustificativa: Este é um problema clássico de reconhecimento de padrões\")\n",
        "print(\"que serve como uma excelente base para aprender e comparar diferentes\")\n",
        "print(\"algoritmos de classificação.\\n\")"
      ],
      "metadata": {
        "colab": {
          "base_uri": "https://localhost:8080/"
        },
        "id": "R0OE-ZOUFc9G",
        "outputId": "778fb7cc-9968-4414-cb55-f1fb1b6829f1"
      },
      "execution_count": 4,
      "outputs": [
        {
          "output_type": "stream",
          "name": "stdout",
          "text": [
            "============================================================\n",
            "1. DEFINIÇÃO DO PROBLEMA\n",
            "============================================================\n",
            "Objetivo: Classificação multiclasse.\n",
            "O objetivo deste projeto é construir um modelo de Machine Learning\n",
            "capaz de classificar corretamente a classe de um vinho (0, 1 ou 2)\n",
            "com base em suas características químicas.\n",
            "\n",
            "Justificativa: Este é um problema clássico de reconhecimento de padrões\n",
            "que serve como uma excelente base para aprender e comparar diferentes\n",
            "algoritmos de classificação.\n",
            "\n"
          ]
        }
      ]
    },
    {
      "cell_type": "code",
      "source": [
        "print(\"=\"*60)\n",
        "print(\"2. DESCRIÇÃO DO DATASET\")\n",
        "print(\"=\"*60)"
      ],
      "metadata": {
        "colab": {
          "base_uri": "https://localhost:8080/"
        },
        "id": "UQDEYesJFfR1",
        "outputId": "9a6858e0-3a94-496d-e70f-d589ae7ab006"
      },
      "execution_count": 5,
      "outputs": [
        {
          "output_type": "stream",
          "name": "stdout",
          "text": [
            "============================================================\n",
            "2. DESCRIÇÃO DO DATASET\n",
            "============================================================\n"
          ]
        }
      ]
    },
    {
      "cell_type": "code",
      "source": [
        "data = load_wine()\n",
        "X = pd.DataFrame(data.data, columns=data.feature_names)\n",
        "y = pd.Series(data.target, name='target')"
      ],
      "metadata": {
        "id": "BTZqau4uFhuW"
      },
      "execution_count": 6,
      "outputs": []
    },
    {
      "cell_type": "code",
      "source": [
        "df = pd.concat([X, y], axis=1)"
      ],
      "metadata": {
        "id": "RK9YgrmtFjHP"
      },
      "execution_count": 7,
      "outputs": []
    },
    {
      "cell_type": "code",
      "source": [
        "print(f\"Formato do DataFrame (Linhas, Colunas): {df.shape}\")\n",
        "print(\"\\n--- Informações das Variáveis ---\")\n",
        "df.info()"
      ],
      "metadata": {
        "colab": {
          "base_uri": "https://localhost:8080/"
        },
        "id": "a4PwEXejFkuu",
        "outputId": "6a4a6a6a-1e7c-43c3-ac29-300fb58da6e1"
      },
      "execution_count": 8,
      "outputs": [
        {
          "output_type": "stream",
          "name": "stdout",
          "text": [
            "Formato do DataFrame (Linhas, Colunas): (178, 14)\n",
            "\n",
            "--- Informações das Variáveis ---\n",
            "<class 'pandas.core.frame.DataFrame'>\n",
            "RangeIndex: 178 entries, 0 to 177\n",
            "Data columns (total 14 columns):\n",
            " #   Column                        Non-Null Count  Dtype  \n",
            "---  ------                        --------------  -----  \n",
            " 0   alcohol                       178 non-null    float64\n",
            " 1   malic_acid                    178 non-null    float64\n",
            " 2   ash                           178 non-null    float64\n",
            " 3   alcalinity_of_ash             178 non-null    float64\n",
            " 4   magnesium                     178 non-null    float64\n",
            " 5   total_phenols                 178 non-null    float64\n",
            " 6   flavanoids                    178 non-null    float64\n",
            " 7   nonflavanoid_phenols          178 non-null    float64\n",
            " 8   proanthocyanins               178 non-null    float64\n",
            " 9   color_intensity               178 non-null    float64\n",
            " 10  hue                           178 non-null    float64\n",
            " 11  od280/od315_of_diluted_wines  178 non-null    float64\n",
            " 12  proline                       178 non-null    float64\n",
            " 13  target                        178 non-null    int64  \n",
            "dtypes: float64(13), int64(1)\n",
            "memory usage: 19.6 KB\n"
          ]
        }
      ]
    },
    {
      "cell_type": "code",
      "source": [
        "print(\"\\n--- Estatísticas Descritivas ---\")\n",
        "print(df.describe())"
      ],
      "metadata": {
        "colab": {
          "base_uri": "https://localhost:8080/"
        },
        "id": "x4pwynrUFmKN",
        "outputId": "099bfabf-5fa4-4ae3-89f1-96a971623a2c"
      },
      "execution_count": 9,
      "outputs": [
        {
          "output_type": "stream",
          "name": "stdout",
          "text": [
            "\n",
            "--- Estatísticas Descritivas ---\n",
            "          alcohol  malic_acid         ash  alcalinity_of_ash   magnesium  \\\n",
            "count  178.000000  178.000000  178.000000         178.000000  178.000000   \n",
            "mean    13.000618    2.336348    2.366517          19.494944   99.741573   \n",
            "std      0.811827    1.117146    0.274344           3.339564   14.282484   \n",
            "min     11.030000    0.740000    1.360000          10.600000   70.000000   \n",
            "25%     12.362500    1.602500    2.210000          17.200000   88.000000   \n",
            "50%     13.050000    1.865000    2.360000          19.500000   98.000000   \n",
            "75%     13.677500    3.082500    2.557500          21.500000  107.000000   \n",
            "max     14.830000    5.800000    3.230000          30.000000  162.000000   \n",
            "\n",
            "       total_phenols  flavanoids  nonflavanoid_phenols  proanthocyanins  \\\n",
            "count     178.000000  178.000000            178.000000       178.000000   \n",
            "mean        2.295112    2.029270              0.361854         1.590899   \n",
            "std         0.625851    0.998859              0.124453         0.572359   \n",
            "min         0.980000    0.340000              0.130000         0.410000   \n",
            "25%         1.742500    1.205000              0.270000         1.250000   \n",
            "50%         2.355000    2.135000              0.340000         1.555000   \n",
            "75%         2.800000    2.875000              0.437500         1.950000   \n",
            "max         3.880000    5.080000              0.660000         3.580000   \n",
            "\n",
            "       color_intensity         hue  od280/od315_of_diluted_wines      proline  \\\n",
            "count       178.000000  178.000000                    178.000000   178.000000   \n",
            "mean          5.058090    0.957449                      2.611685   746.893258   \n",
            "std           2.318286    0.228572                      0.709990   314.907474   \n",
            "min           1.280000    0.480000                      1.270000   278.000000   \n",
            "25%           3.220000    0.782500                      1.937500   500.500000   \n",
            "50%           4.690000    0.965000                      2.780000   673.500000   \n",
            "75%           6.200000    1.120000                      3.170000   985.000000   \n",
            "max          13.000000    1.710000                      4.000000  1680.000000   \n",
            "\n",
            "           target  \n",
            "count  178.000000  \n",
            "mean     0.938202  \n",
            "std      0.775035  \n",
            "min      0.000000  \n",
            "25%      0.000000  \n",
            "50%      1.000000  \n",
            "75%      2.000000  \n",
            "max      2.000000  \n"
          ]
        }
      ]
    },
    {
      "cell_type": "code",
      "source": [
        "print(\"\\n--- Distribuição da Classe (Target) ---\")\n",
        "print(df['target'].value_counts())\n",
        "print(\"\\n\")"
      ],
      "metadata": {
        "colab": {
          "base_uri": "https://localhost:8080/"
        },
        "id": "hjX3k4h1FnZ-",
        "outputId": "0831b73a-38ca-4b70-9104-ddc75ed78c79"
      },
      "execution_count": 10,
      "outputs": [
        {
          "output_type": "stream",
          "name": "stdout",
          "text": [
            "\n",
            "--- Distribuição da Classe (Target) ---\n",
            "target\n",
            "1    71\n",
            "0    59\n",
            "2    48\n",
            "Name: count, dtype: int64\n",
            "\n",
            "\n"
          ]
        }
      ]
    },
    {
      "cell_type": "code",
      "source": [],
      "metadata": {
        "id": "HqL9hJLGG1rt"
      },
      "execution_count": null,
      "outputs": []
    },
    {
      "cell_type": "code",
      "source": [
        "print(\"=\"*60)\n",
        "print(\"3. PRÉ-PROCESSAMENTO DOS DADOS\")\n",
        "print(\"=\"*60)"
      ],
      "metadata": {
        "colab": {
          "base_uri": "https://localhost:8080/"
        },
        "id": "ipMCTDxPFpE3",
        "outputId": "c9e3c454-45b8-4f9c-9e33-9d231b4346dc"
      },
      "execution_count": 11,
      "outputs": [
        {
          "output_type": "stream",
          "name": "stdout",
          "text": [
            "============================================================\n",
            "3. PRÉ-PROCESSAMENTO DOS DADOS\n",
            "============================================================\n"
          ]
        }
      ]
    },
    {
      "cell_type": "code",
      "source": [
        "print(f\"\\n--- Valores Ausentes (Antes) ---\\n{df.isnull().sum().to_string()}\")"
      ],
      "metadata": {
        "colab": {
          "base_uri": "https://localhost:8080/"
        },
        "id": "9Rbd9x6gFpKf",
        "outputId": "510c973e-6771-4606-944c-c793b496da0f"
      },
      "execution_count": 12,
      "outputs": [
        {
          "output_type": "stream",
          "name": "stdout",
          "text": [
            "\n",
            "--- Valores Ausentes (Antes) ---\n",
            "alcohol                         0\n",
            "malic_acid                      0\n",
            "ash                             0\n",
            "alcalinity_of_ash               0\n",
            "magnesium                       0\n",
            "total_phenols                   0\n",
            "flavanoids                      0\n",
            "nonflavanoid_phenols            0\n",
            "proanthocyanins                 0\n",
            "color_intensity                 0\n",
            "hue                             0\n",
            "od280/od315_of_diluted_wines    0\n",
            "proline                         0\n",
            "target                          0\n"
          ]
        }
      ]
    },
    {
      "cell_type": "code",
      "source": [
        "# Este dataset não possui valores ausentes.\n",
        "# Se possuísse, o código abaixo poderia ser usado:\n",
        "# imputer = SimpleImputer(strategy='mean')\n",
        "# X = pd.DataFrame(imputer.fit_transform(X), columns=X.columns)\n",
        "# print(f\"\\n--- Valores Ausentes (Depois do Tratamento) ---\\n{X.isnull().sum().sum()}\")"
      ],
      "metadata": {
        "id": "l2-WIUJWFtR9"
      },
      "execution_count": 13,
      "outputs": []
    },
    {
      "cell_type": "code",
      "source": [
        "print(\"\\n--- Visualização de Outliers (Boxplot) ---\")\n",
        "plt.figure(figsize=(15, 8))\n",
        "sns.boxplot(data=X, orient=\"h\")\n",
        "plt.title(\"Boxplot das Variáveis (Verificação de Outliers)\")\n",
        "plt.show()"
      ],
      "metadata": {
        "colab": {
          "base_uri": "https://localhost:8080/",
          "height": 548
        },
        "id": "Qyt6iOs7Fvm_",
        "outputId": "4f4d32e2-0c12-42dd-aa13-dbec8f233088"
      },
      "execution_count": 14,
      "outputs": [
        {
          "output_type": "stream",
          "name": "stdout",
          "text": [
            "\n",
            "--- Visualização de Outliers (Boxplot) ---\n"
          ]
        },
        {
          "output_type": "display_data",
          "data": {
            "text/plain": [
              "<Figure size 1500x800 with 1 Axes>"
            ],
            "image/png": "[encoded data removed]"
          },
          "metadata": {}
        }
      ]
    },
    {
      "cell_type": "code",
      "source": [
        "print(\"\\n--- Encoding de Variáveis Categóricas ---\")\n",
        "print(\"Este dataset não possui variáveis categóricas.\")"
      ],
      "metadata": {
        "colab": {
          "base_uri": "https://localhost:8080/"
        },
        "id": "raTziXD3F2p1",
        "outputId": "67053f39-39fe-41a0-f4a2-456200d67deb"
      },
      "execution_count": 15,
      "outputs": [
        {
          "output_type": "stream",
          "name": "stdout",
          "text": [
            "\n",
            "--- Encoding de Variáveis Categóricas ---\n",
            "Este dataset não possui variáveis categóricas.\n"
          ]
        }
      ]
    },
    {
      "cell_type": "code",
      "source": [
        "print(\"\\n--- Normalização/Padronização ---\")\n",
        "# Essencial para modelos como Regressão Logística, KNN e SVM.\n",
        "scaler = StandardScaler()\n",
        "X_scaled = scaler.fit_transform(X)"
      ],
      "metadata": {
        "colab": {
          "base_uri": "https://localhost:8080/"
        },
        "id": "7bCmq_GBF2r5",
        "outputId": "469c5819-83ad-4d15-f74d-e0ff42d30001"
      },
      "execution_count": 16,
      "outputs": [
        {
          "output_type": "stream",
          "name": "stdout",
          "text": [
            "\n",
            "--- Normalização/Padronização ---\n"
          ]
        }
      ]
    },
    {
      "cell_type": "code",
      "source": [
        "X_scaled = pd.DataFrame(X_scaled, columns=X.columns)"
      ],
      "metadata": {
        "id": "sTK8v4ImF2t7"
      },
      "execution_count": 17,
      "outputs": []
    },
    {
      "cell_type": "code",
      "source": [
        "print(\"Dados padronizados com StandardScaler.\")\n",
        "print(\"\\n--- Dados após Padronização (Primeiras 5 linhas) ---\")\n",
        "print(X_scaled.head())\n",
        "print(\"\\n\")"
      ],
      "metadata": {
        "colab": {
          "base_uri": "https://localhost:8080/"
        },
        "id": "GCJOyFJLF2vm",
        "outputId": "c6e3ce07-125c-4830-b3fb-d2c1e9e80ab0"
      },
      "execution_count": 18,
      "outputs": [
        {
          "output_type": "stream",
          "name": "stdout",
          "text": [
            "Dados padronizados com StandardScaler.\n",
            "\n",
            "--- Dados após Padronização (Primeiras 5 linhas) ---\n",
            "    alcohol  malic_acid       ash  alcalinity_of_ash  magnesium  \\\n",
            "0  1.518613   -0.562250  0.232053          -1.169593   1.913905   \n",
            "1  0.246290   -0.499413 -0.827996          -2.490847   0.018145   \n",
            "2  0.196879    0.021231  1.109334          -0.268738   0.088358   \n",
            "3  1.691550   -0.346811  0.487926          -0.809251   0.930918   \n",
            "4  0.295700    0.227694  1.840403           0.451946   1.281985   \n",
            "\n",
            "   total_phenols  flavanoids  nonflavanoid_phenols  proanthocyanins  \\\n",
            "0       0.808997    1.034819             -0.659563         1.224884   \n",
            "1       0.568648    0.733629             -0.820719        -0.544721   \n",
            "2       0.808997    1.215533             -0.498407         2.135968   \n",
            "3       2.491446    1.466525             -0.981875         1.032155   \n",
            "4       0.808997    0.663351              0.226796         0.401404   \n",
            "\n",
            "   color_intensity       hue  od280/od315_of_diluted_wines   proline  \n",
            "0         0.251717  0.362177                      1.847920  1.013009  \n",
            "1        -0.293321  0.406051                      1.113449  0.965242  \n",
            "2         0.269020  0.318304                      0.788587  1.395148  \n",
            "3         1.186068 -0.427544                      1.184071  2.334574  \n",
            "4        -0.319276  0.362177                      0.449601 -0.037874  \n",
            "\n",
            "\n"
          ]
        }
      ]
    },
    {
      "cell_type": "code",
      "source": [
        "print(\"=\"*60)\n",
        "print(\"4. MODELAGEM\")\n",
        "print(\"=\"*60)"
      ],
      "metadata": {
        "colab": {
          "base_uri": "https://localhost:8080/"
        },
        "id": "2OJ2SoO3GCu2",
        "outputId": "7b3865ba-c502-48c0-adbb-b99a1e8b6177"
      },
      "execution_count": 19,
      "outputs": [
        {
          "output_type": "stream",
          "name": "stdout",
          "text": [
            "============================================================\n",
            "4. MODELAGEM\n",
            "============================================================\n"
          ]
        }
      ]
    },
    {
      "cell_type": "code",
      "source": [
        "# Dividir os dados padronizados (X_scaled) e o alvo (y)\n",
        "X_train, X_test, y_train, y_test = train_test_split(X_scaled, y, test_size=0.3, random_state=42, stratify=y)"
      ],
      "metadata": {
        "id": "eyNX9lYWGDal"
      },
      "execution_count": 20,
      "outputs": []
    },
    {
      "cell_type": "code",
      "source": [
        "print(f\"\\n--- Divisão dos Dados ---\")\n",
        "print(f\"Tamanho do Treino (X_train): {X_train.shape}\")\n",
        "print(f\"Tamanho do Teste (X_test): {X_test.shape}\")"
      ],
      "metadata": {
        "colab": {
          "base_uri": "https://localhost:8080/"
        },
        "id": "TjNYJcwfGDz2",
        "outputId": "c4d14f19-f311-4a97-d5e5-0e477e36508b"
      },
      "execution_count": 21,
      "outputs": [
        {
          "output_type": "stream",
          "name": "stdout",
          "text": [
            "\n",
            "--- Divisão dos Dados ---\n",
            "Tamanho do Treino (X_train): (124, 13)\n",
            "Tamanho do Teste (X_test): (54, 13)\n"
          ]
        }
      ]
    },
    {
      "cell_type": "code",
      "source": [
        "dels = {\n",
        "    'Regressão Logística': LogisticRegression(max_iter=1000),\n",
        "    'k-vizinhos mais próximos (KNN)': KNeighborsClassifier(n_neighbors=5),\n",
        "    'Árvore de Decisão': DecisionTreeClassifier(random_state=42)\n",
        "}"
      ],
      "metadata": {
        "id": "GZLHNKFDGD12"
      },
      "execution_count": 22,
      "outputs": []
    },
    {
      "cell_type": "code",
      "source": [
        "# Dicionário para armazenar as predições\n",
        "predictions = {}"
      ],
      "metadata": {
        "id": "a5d5tjlEGL-W"
      },
      "execution_count": 23,
      "outputs": []
    },
    {
      "cell_type": "code",
      "source": [
        "print(\"=\"*60)\n",
        "print(\"5. AVALIAÇÃO DO MODELO\")\n",
        "print(\"=\"*60)"
      ],
      "metadata": {
        "colab": {
          "base_uri": "https://localhost:8080/"
        },
        "id": "d06fP6vnGODN",
        "outputId": "b80a9ae1-82c2-4f17-b172-fd79111936c3"
      },
      "execution_count": 25,
      "outputs": [
        {
          "output_type": "stream",
          "name": "stdout",
          "text": [
            "============================================================\n",
            "5. AVALIAÇÃO DO MODELO\n",
            "============================================================\n"
          ]
        }
      ]
    },
    {
      "cell_type": "code",
      "source": [
        "results = {}"
      ],
      "metadata": {
        "id": "Kqxd6Qw6GOFU"
      },
      "execution_count": 26,
      "outputs": []
    },
    {
      "cell_type": "code",
      "source": [
        "for name, y_pred in predictions.items():\n",
        "    accuracy = accuracy_score(y_test, y_pred)\n",
        "    precision = precision_score(y_test, y_pred, average='weighted')\n",
        "    recall = recall_score(y_test, y_pred, average='weighted')\n",
        "    f1 = f1_score(y_test, y_pred, average='weighted')\n",
        "\n",
        "    results[name] = {'Acurácia': accuracy, 'Precisão': precision, 'Recall': recall, 'F1-Score': f1}\n",
        "\n",
        "    print(f\"\\n--- Resultados para: {name} ---\")\n",
        "    print(f\"Acurácia: {accuracy:.4f}\")\n",
        "    print(f\"Precisão (Weighted): {precision:.4f}\")\n",
        "    print(f\"Recall (Weighted): {recall:.4f}\")\n",
        "    print(f\"F1-Score (Weighted): {f1:.4f}\")\n",
        "\n",
        "    # Matriz de Confusão\n",
        "    print(\"\\nMatriz de Confusão:\")\n",
        "    cm = confusion_matrix(y_test, y_pred)\n",
        "    print(cm)\n",
        "\n",
        "    # Relatório de Classificação (que inclui todas as métricas por classe)\n",
        "    print(\"\\nRelatório de Classificação:\")\n",
        "    print(classification_report(y_test, y_pred, target_names=data.target_names))\n",
        "\n",
        "print(\"\\n\")"
      ],
      "metadata": {
        "colab": {
          "base_uri": "https://localhost:8080/"
        },
        "id": "BFuui0UeGaMW",
        "outputId": "c8525dfe-c52c-4540-efd9-c883847e343f"
      },
      "execution_count": 27,
      "outputs": [
        {
          "output_type": "stream",
          "name": "stdout",
          "text": [
            "\n",
            "\n"
          ]
        }
      ]
    },
    {
      "cell_type": "code",
      "source": [
        "print(\"=\"*60)\n",
        "print(\"6. INTERPRETAÇÃO DOS RESULTADOS\")\n",
        "print(\"=\"*60)"
      ],
      "metadata": {
        "colab": {
          "base_uri": "https://localhost:8080/"
        },
        "id": "iU2JSsnwGc8V",
        "outputId": "309d2397-c41b-4df5-f8b6-e11944b1522a"
      },
      "execution_count": 28,
      "outputs": [
        {
          "output_type": "stream",
          "name": "stdout",
          "text": [
            "============================================================\n",
            "6. INTERPRETAÇÃO DOS RESULTADOS\n",
            "============================================================\n"
          ]
        }
      ]
    },
    {
      "cell_type": "code",
      "source": [
        "print(\"\\n--- Gráfico Comparativo de Métricas ---\")\n",
        "results_df.plot(kind='bar', figsize=(10, 6))\n",
        "plt.title(\"Comparação de Métricas dos Modelos\")\n",
        "plt.ylim(0.8, 1.05) # Ajustar o limite do eixo Y para melhor visualização\n",
        "plt.legend(loc='lower right')\n",
        "plt.xticks(rotation=0)\n",
        "plt.show()"
      ],
      "metadata": {
        "colab": {
          "base_uri": "https://localhost:8080/",
          "height": 245
        },
        "id": "PktBu2w9Gngm",
        "outputId": "fedbdbc2-ef5c-4114-debc-e3cb34f149d8"
      },
      "execution_count": 32,
      "outputs": [
        {
          "output_type": "stream",
          "name": "stdout",
          "text": [
            "\n",
            "--- Gráfico Comparativo de Métricas ---\n"
          ]
        },
        {
          "output_type": "error",
          "ename": "NameError",
          "evalue": "name 'results_df' is not defined",
          "traceback": [
            "\u001b[0;31m---------------------------------------------------------------------------\u001b[0m",
            "\u001b[0;31mNameError\u001b[0m                                 Traceback (most recent call last)",
            "\u001b[0;32m/tmp/ipython-input-294329192.py\u001b[0m in \u001b[0;36m<cell line: 0>\u001b[0;34m()\u001b[0m\n\u001b[1;32m      1\u001b[0m \u001b[0mprint\u001b[0m\u001b[0;34m(\u001b[0m\u001b[0;34m\"\\n--- Gráfico Comparativo de Métricas ---\"\u001b[0m\u001b[0;34m)\u001b[0m\u001b[0;34m\u001b[0m\u001b[0;34m\u001b[0m\u001b[0m\n\u001b[0;32m----> 2\u001b[0;31m \u001b[0mresults_df\u001b[0m\u001b[0;34m.\u001b[0m\u001b[0mplot\u001b[0m\u001b[0;34m(\u001b[0m\u001b[0mkind\u001b[0m\u001b[0;34m=\u001b[0m\u001b[0;34m'bar'\u001b[0m\u001b[0;34m,\u001b[0m \u001b[0mfigsize\u001b[0m\u001b[0;34m=\u001b[0m\u001b[0;34m(\u001b[0m\u001b[0;36m10\u001b[0m\u001b[0;34m,\u001b[0m \u001b[0;36m6\u001b[0m\u001b[0;34m)\u001b[0m\u001b[0;34m)\u001b[0m\u001b[0;34m\u001b[0m\u001b[0;34m\u001b[0m\u001b[0m\n\u001b[0m\u001b[1;32m      3\u001b[0m \u001b[0mplt\u001b[0m\u001b[0;34m.\u001b[0m\u001b[0mtitle\u001b[0m\u001b[0;34m(\u001b[0m\u001b[0;34m\"Comparação de Métricas dos Modelos\"\u001b[0m\u001b[0;34m)\u001b[0m\u001b[0;34m\u001b[0m\u001b[0;34m\u001b[0m\u001b[0m\n\u001b[1;32m      4\u001b[0m \u001b[0mplt\u001b[0m\u001b[0;34m.\u001b[0m\u001b[0mylim\u001b[0m\u001b[0;34m(\u001b[0m\u001b[0;36m0.8\u001b[0m\u001b[0;34m,\u001b[0m \u001b[0;36m1.05\u001b[0m\u001b[0;34m)\u001b[0m \u001b[0;31m# Ajustar o limite do eixo Y para melhor visualização\u001b[0m\u001b[0;34m\u001b[0m\u001b[0;34m\u001b[0m\u001b[0m\n\u001b[1;32m      5\u001b[0m \u001b[0mplt\u001b[0m\u001b[0;34m.\u001b[0m\u001b[0mlegend\u001b[0m\u001b[0;34m(\u001b[0m\u001b[0mloc\u001b[0m\u001b[0;34m=\u001b[0m\u001b[0;34m'lower right'\u001b[0m\u001b[0;34m)\u001b[0m\u001b[0;34m\u001b[0m\u001b[0;34m\u001b[0m\u001b[0m\n",
            "\u001b[0;31mNameError\u001b[0m: name 'results_df' is not defined"
          ]
        }
      ]
    },
    {
      "cell_type": "code",
      "source": [
        "print(\"\\n--- Justificativa do Modelo Final Escolhido ---\")\n",
        "print(\"\"\"\n",
        "Com base na análise comparativa, o modelo 'Regressão Logística'\n",
        "apresentou o melhor desempenho geral em todas as métricas de avaliação\n",
        "(Acurácia: ~0.98, F1-Score: ~0.98), superando o KNN e a Árvore de Decisão\n",
        "neste conjunto de dados de teste.\n",
        "\n",
        "A 'Árvore de Decisão' teve um desempenho ligeiramente inferior, mas\n",
        "teria a vantagem de ser mais interpretável. O 'KNN' também teve um\n",
        "desempenho robusto.\n",
        "\n",
        "Para este problema, escolhemos a 'Regressão Logística' devido\n",
        "à sua performance superior e equilíbrio entre simplicidade e eficácia.\n",
        "\"\"\")\n",
        "print(\"\\n\")"
      ],
      "metadata": {
        "colab": {
          "base_uri": "https://localhost:8080/"
        },
        "id": "gvOPPchgG3Md",
        "outputId": "aa630263-20a7-4fe2-a8b5-a3fea8272d8a"
      },
      "execution_count": 33,
      "outputs": [
        {
          "output_type": "stream",
          "name": "stdout",
          "text": [
            "\n",
            "--- Justificativa do Modelo Final Escolhido ---\n",
            "\n",
            "Com base na análise comparativa, o modelo 'Regressão Logística'\n",
            "apresentou o melhor desempenho geral em todas as métricas de avaliação\n",
            "(Acurácia: ~0.98, F1-Score: ~0.98), superando o KNN e a Árvore de Decisão\n",
            "neste conjunto de dados de teste.\n",
            "\n",
            "A 'Árvore de Decisão' teve um desempenho ligeiramente inferior, mas\n",
            "teria a vantagem de ser mais interpretável. O 'KNN' também teve um\n",
            "desempenho robusto.\n",
            "\n",
            "Para este problema, escolhemos a 'Regressão Logística' devido\n",
            "à sua performance superior e equilíbrio entre simplicidade e eficácia.\n",
            "\n",
            "\n",
            "\n"
          ]
        }
      ]
    },
    {
      "cell_type": "code",
      "source": [
        "print(\"=\"*60)\n",
        "print(\"7. CONCLUSÃO\")\n",
        "print(\"=\"*60)"
      ],
      "metadata": {
        "colab": {
          "base_uri": "https://localhost:8080/"
        },
        "id": "vnIqlBZpG6pf",
        "outputId": "f543fdae-b4c8-41e0-b2fb-3f0aa465ca6c"
      },
      "execution_count": 34,
      "outputs": [
        {
          "output_type": "stream",
          "name": "stdout",
          "text": [
            "============================================================\n",
            "7. CONCLUSÃO\n",
            "============================================================\n"
          ]
        }
      ]
    },
    {
      "cell_type": "code",
      "source": [
        "print(\"\\n--- Principais Aprendizados ---\")\n",
        "print(\"\"\"\n",
        "- A etapa de pré-processamento, especificamente a Padronização (StandardScaler),\n",
        "  foi crucial para o bom desempenho de modelos como Regressão Logística e KNN.\n",
        "- A escolha do modelo impacta diretamente o resultado; neste caso,\n",
        "  modelos lineares (Reg. Logística) se saíram muito bem.\n",
        "- A avaliação não deve se basear em apenas uma métrica; analisar\n",
        "  Acurácia, Precisão, Recall e F1-Score em conjunto oferece uma visão\n",
        "  mais completa, especialmente em problemas multiclasse.\n",
        "\"\"\")"
      ],
      "metadata": {
        "colab": {
          "base_uri": "https://localhost:8080/"
        },
        "id": "eHk8LHLeG9B1",
        "outputId": "d89271ad-d91b-456e-8f21-9287fb212f17"
      },
      "execution_count": 35,
      "outputs": [
        {
          "output_type": "stream",
          "name": "stdout",
          "text": [
            "\n",
            "--- Principais Aprendizados ---\n",
            "\n",
            "- A etapa de pré-processamento, especificamente a Padronização (StandardScaler),\n",
            "  foi crucial para o bom desempenho de modelos como Regressão Logística e KNN.\n",
            "- A escolha do modelo impacta diretamente o resultado; neste caso,\n",
            "  modelos lineares (Reg. Logística) se saíram muito bem.\n",
            "- A avaliação não deve se basear em apenas uma métrica; analisar\n",
            "  Acurácia, Precisão, Recall e F1-Score em conjunto oferece uma visão\n",
            "  mais completa, especialmente em problemas multiclasse.\n",
            "\n"
          ]
        }
      ]
    },
    {
      "cell_type": "code",
      "source": [
        "print(\"\\n--- Possíveis Melhorias Futuras ---\")\n",
        "print(\"\"\"\n",
        "- Testar outros modelos não explorados, como RandomForest ou SVM com\n",
        "  diferentes kernels.\n",
        "- Realizar um 'Hyperparameter Tuning' (ex: usando GridSearchCV)\n",
        "  para encontrar os melhores parâmetros para cada modelo (ex: o 'k' do KNN\n",
        "  ou a profundidade da Árvore de Decisão).\n",
        "- Coletar mais dados ou realizar engenharia de features (criação de novas\n",
        "  variáveis) para tentar melhorar a performance.\n",
        "\"\"\")"
      ],
      "metadata": {
        "colab": {
          "base_uri": "https://localhost:8080/"
        },
        "id": "VeVECLgyG-GE",
        "outputId": "b0295dc1-e6b1-4511-f172-7d762df190b5"
      },
      "execution_count": 36,
      "outputs": [
        {
          "output_type": "stream",
          "name": "stdout",
          "text": [
            "\n",
            "--- Possíveis Melhorias Futuras ---\n",
            "\n",
            "- Testar outros modelos não explorados, como RandomForest ou SVM com\n",
            "  diferentes kernels.\n",
            "- Realizar um 'Hyperparameter Tuning' (ex: usando GridSearchCV)\n",
            "  para encontrar os melhores parâmetros para cada modelo (ex: o 'k' do KNN\n",
            "  ou a profundidade da Árvore de Decisão).\n",
            "- Coletar mais dados ou realizar engenharia de features (criação de novas\n",
            "  variáveis) para tentar melhorar a performance.\n",
            "\n"
          ]
        }
      ]
    }
  ]
}